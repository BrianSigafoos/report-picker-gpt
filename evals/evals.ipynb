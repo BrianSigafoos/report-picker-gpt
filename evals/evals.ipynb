{
 "cells": [
  {
   "cell_type": "markdown",
   "metadata": {},
   "source": [
    "# Building a Report Picker eval\n",
    "\n",
    "Based on the [examples in openai/evals](https://github.com/openai/evals/tree/26a5191230e91953f4f2fdd74a82051fda2aba23/examples)"
   ]
  },
  {
   "cell_type": "markdown",
   "metadata": {},
   "source": [
    "## Imports"
   ]
  },
  {
   "cell_type": "code",
   "execution_count": 120,
   "metadata": {},
   "outputs": [
    {
     "name": "stdout",
     "output_type": "stream",
     "text": [
      "The autoreload extension is already loaded. To reload it, use:\n",
      "  %reload_ext autoreload\n"
     ]
    }
   ],
   "source": [
    "%load_ext autoreload\n",
    "%autoreload 2\n",
    "\n",
    "import datetime\n",
    "import os\n",
    "import pandas as pd\n",
    "import yaml\n",
    "import json\n",
    "\n",
    "from pathlib import Path"
   ]
  },
  {
   "cell_type": "markdown",
   "metadata": {},
   "source": [
    "## Load prompt\n",
    "\n",
    "Construct the system prompt, similar to `../lib/openai.ts`: `createSystemPrompt`"
   ]
  },
  {
   "cell_type": "code",
   "execution_count": 121,
   "metadata": {},
   "outputs": [
    {
     "data": {
      "text/plain": [
       "'\\nYou\\'re an expert at finding the best report(s) to answer a user\\'s question about their business. If the question isn\\'t answerable by these reports, return \"NA\" as the \"error\".\\n\\nToday\\'s date: 2023-08-21\\n\\nReply with ONLY the key of a report below.\\n\\nAvailable reports: \\n[{\\'key\\': \\'SalesSummary\\', \\'description\\': \\'Sales Summary: A general overview of sales from a given time period. The report includes itemization metrics like gross sales, refunds, net sales, discounts, tips, and taxes. It also includes payment metrics like total collected (revenue by tender type) and fees.\\', \\'filters\\': [\\'startDate\\', \\'endDate\\']}, {\\'key\\': \\'SalesTrends\\', \\'description\\': \\'Sales Trends: Compares your daily, weekly, and yearly gross sales.\\', \\'filters\\': [\\'startDate\\', \\'endDate\\']}, {\\'key\\': \\'PaymentMethods\\', \\'description\\': \\'Payment Methods: A summary of the total collected and any associated fees from credit, debit and gift cards, and any other tender types. The reports include payments broken down by debit vs credit, as well as by card brand - American Express, Visa, Mastercard, etc. with corresponding fees. Adjust filters to change the data displayed in the breakdown.\\', \\'filters\\': [\\'startDate\\', \\'endDate\\', \\'paymentMethod\\']}, {\\'key\\': \\'ItemSales\\', \\'description\\': \\'Item Sales: Shows details for all items sold including gross sales, net sales, SKUs, discounts, and total sold. Use advanced reporting options to display item sales by device, employee, or payment method. Note: Click an item in your report to see an item dropdown - specific sales info on that item and all its variations.\\', \\'filters\\': [\\'item\\', \\'startDate\\', \\'endDate\\', \\'location\\', \\'device\\', \\'employee\\', \\'paymentMethod\\']}, {\\'key\\': \\'CategorySale\\', \\'description\\': \\'Category Sale: An overview of top grossing categories and the number of items sold within each category.\\', \\'filters\\': [\\'startDate\\', \\'endDate\\', \\'category\\']}, {\\'key\\': \\'TeamMemberSales\\', \\'description\\': \\'Team Member Sales: Show sales per employee, tips, average sale size and revenue per labor hour.\\', \\'filters\\': [\\'startDate\\', \\'endDate\\', \\'location\\']}, {\\'key\\': \\'LaborVsSales\\', \\'description\\': \\'Labor vs. Sales: Track wages and see how your labor cost compares to sales.\\', \\'filters\\': [\\'startDate\\', \\'endDate\\']}, {\\'key\\': \\'Discounts\\', \\'description\\': \\'Discounts: A list of the top used discounts and total discount amounts collected.\\', \\'filters\\': [\\'startDate\\', \\'endDate\\', \\'amount\\']}, {\\'key\\': \\'ModifierSales\\', \\'description\\': \\'Modifier Sales: A list of the top used modifiers in a given time period.\\', \\'filters\\': [\\'startDate\\', \\'endDate\\']}, {\\'key\\': \\'Comps\\', \\'description\\': \\'Comps: A list of transactions with comped items.\\', \\'filters\\': [\\'startDate\\', \\'endDate\\']}, {\\'key\\': \\'Voids\\', \\'description\\': \\'Voids: A list of transactions with voided items.\\', \\'filters\\': [\\'startDate\\', \\'endDate\\']}, {\\'key\\': \\'Taxes\\', \\'description\\': \\'Taxes: An overview of how your tax rates are being used in a given time period, including taxable and non-taxable sales.\\', \\'filters\\': [\\'startDate\\', \\'endDate\\']}, {\\'key\\': \\'TransactionStatus\\', \\'description\\': \\'Transaction Status: A list of any unprocessed transactions like declined cards, canceled payments, and other uncompleted transactions.\\', \\'filters\\': [\\'startDate\\', \\'endDate\\']}, {\\'key\\': \\'GiftCards\\', \\'description\\': \\'Gift Cards: Tracks everything related to your Square gift card activity.\\', \\'filters\\': [\\'startDate\\', \\'endDate\\']}, {\\'key\\': \\'Transactions\\', \\'description\\': \\'Transactions: A list of individual transactions and transaction details from a given time period.\\', \\'filters\\': [\\'startDate\\', \\'endDate\\']}, {\\'key\\': \\'Balance\\', \\'description\\': \\'Balance: A list of individual transfers and the payments included in each transfer, along with your entire transfer history. \\', \\'filters\\': [\\'startDate\\', \\'endDate\\']}, {\\'key\\': \\'Disputes\\', \\'description\\': \\'Disputes: View, manage, and get updates on any disputes you may receive.\\', \\'filters\\': [\\'startDate\\', \\'endDate\\']}, {\\'key\\': \\'CashDrawers\\', \\'description\\': \\'Cash Drawers: Tracks individual cash drawer sessions and your full cash drawer history.\\', \\'filters\\': [\\'startDate\\', \\'endDate\\']}, {\\'key\\': \\'ActivityLog\\', \\'description\\': \\'Activity Log: Tracks sensitive actions taken by your team, such as processed refunds, updates to item inventory, changes to tip settings, comps/voids, and discounts.\\', \\'filters\\': [\\'startDate\\', \\'endDate\\']}]\\n'"
      ]
     },
     "execution_count": 121,
     "metadata": {},
     "output_type": "execute_result"
    }
   ],
   "source": [
    "with open(\"../lib/prompt_template.json\") as f:\n",
    "    prompt_template_data = json.load(f)\n",
    "    prompt_template_prompt = prompt_template_data['prompt'] # Adjust this based on the actual structure\n",
    "\n",
    "with open(\"../lib/available_reports/square.json\") as f:\n",
    "    available_reports = json.load(f)\n",
    "\n",
    "sample_date = \"2023-08-21\"\n",
    "\n",
    "# Construct the system prompt, BUT with the temp added lined until we solve using\n",
    "# function calling in the API call\n",
    "system_prompt = f\"\"\"\n",
    "{prompt_template_prompt}\n",
    "\n",
    "Today's date: {sample_date}\n",
    "\n",
    "Reply with ONLY the key of a report below.\n",
    "\n",
    "Available reports: \n",
    "{available_reports}\n",
    "\"\"\"\n",
    "\n",
    "system_prompt"
   ]
  },
  {
   "cell_type": "markdown",
   "metadata": {},
   "source": [
    "## Create `samples.jsonl` in local eval registry"
   ]
  },
  {
   "cell_type": "code",
   "execution_count": 122,
   "metadata": {},
   "outputs": [
    {
     "data": {
      "text/html": [
       "<div>\n",
       "<style scoped>\n",
       "    .dataframe tbody tr th:only-of-type {\n",
       "        vertical-align: middle;\n",
       "    }\n",
       "\n",
       "    .dataframe tbody tr th {\n",
       "        vertical-align: top;\n",
       "    }\n",
       "\n",
       "    .dataframe thead th {\n",
       "        text-align: right;\n",
       "    }\n",
       "</style>\n",
       "<table border=\"1\" class=\"dataframe\">\n",
       "  <thead>\n",
       "    <tr style=\"text-align: right;\">\n",
       "      <th></th>\n",
       "      <th>input</th>\n",
       "      <th>ideal</th>\n",
       "    </tr>\n",
       "  </thead>\n",
       "  <tbody>\n",
       "    <tr>\n",
       "      <th>0</th>\n",
       "      <td>[{'role': 'system', 'content': '\n",
       "You're an expert at finding the best report(s) to answer a user's question about their business. If the question isn't answerable by these reports, return \"NA\" as ...</td>\n",
       "      <td>SalesSummary</td>\n",
       "    </tr>\n",
       "    <tr>\n",
       "      <th>1</th>\n",
       "      <td>[{'role': 'system', 'content': '\n",
       "You're an expert at finding the best report(s) to answer a user's question about their business. If the question isn't answerable by these reports, return \"NA\" as ...</td>\n",
       "      <td>SalesSummary</td>\n",
       "    </tr>\n",
       "    <tr>\n",
       "      <th>2</th>\n",
       "      <td>[{'role': 'system', 'content': '\n",
       "You're an expert at finding the best report(s) to answer a user's question about their business. If the question isn't answerable by these reports, return \"NA\" as ...</td>\n",
       "      <td>SalesSummary</td>\n",
       "    </tr>\n",
       "    <tr>\n",
       "      <th>3</th>\n",
       "      <td>[{'role': 'system', 'content': '\n",
       "You're an expert at finding the best report(s) to answer a user's question about their business. If the question isn't answerable by these reports, return \"NA\" as ...</td>\n",
       "      <td>SalesTrends</td>\n",
       "    </tr>\n",
       "    <tr>\n",
       "      <th>4</th>\n",
       "      <td>[{'role': 'system', 'content': '\n",
       "You're an expert at finding the best report(s) to answer a user's question about their business. If the question isn't answerable by these reports, return \"NA\" as ...</td>\n",
       "      <td>SalesTrends</td>\n",
       "    </tr>\n",
       "  </tbody>\n",
       "</table>\n",
       "</div>"
      ],
      "text/plain": [
       "                                                                                                                                                                                                     input         ideal\n",
       "0  [{'role': 'system', 'content': '\n",
       "You're an expert at finding the best report(s) to answer a user's question about their business. If the question isn't answerable by these reports, return \"NA\" as ...  SalesSummary\n",
       "1  [{'role': 'system', 'content': '\n",
       "You're an expert at finding the best report(s) to answer a user's question about their business. If the question isn't answerable by these reports, return \"NA\" as ...  SalesSummary\n",
       "2  [{'role': 'system', 'content': '\n",
       "You're an expert at finding the best report(s) to answer a user's question about their business. If the question isn't answerable by these reports, return \"NA\" as ...  SalesSummary\n",
       "3  [{'role': 'system', 'content': '\n",
       "You're an expert at finding the best report(s) to answer a user's question about their business. If the question isn't answerable by these reports, return \"NA\" as ...   SalesTrends\n",
       "4  [{'role': 'system', 'content': '\n",
       "You're an expert at finding the best report(s) to answer a user's question about their business. If the question isn't answerable by these reports, return \"NA\" as ...   SalesTrends"
      ]
     },
     "metadata": {},
     "output_type": "display_data"
    }
   ],
   "source": [
    "eval_key = \"report_picker\"\n",
    "registry_path = os.path.join(os.getcwd(), \".local_registry\")\n",
    "os.makedirs(os.path.join(registry_path, \"evals\"), exist_ok=True)\n",
    "os.makedirs(os.path.join(registry_path, \"data\", eval_key), exist_ok=True)\n",
    "\n",
    "def create_chat_prompt(user_question):\n",
    "    return [\n",
    "        {\"role\": \"system\", \"content\": system_prompt}, \n",
    "        {\"role\": \"user\", \"content\": user_question}\n",
    "    ]\n",
    "\n",
    "# Read the YAML file\n",
    "yaml_file_path = os.path.join(\"report_questions.yaml\")\n",
    "with open(yaml_file_path, 'r') as f:\n",
    "    yaml_data = yaml.load(f, Loader=yaml.FullLoader)\n",
    "\n",
    "# Transform the dictionary\n",
    "data = []\n",
    "for key, questions in yaml_data.items():\n",
    "    for question in questions:\n",
    "        input_prompt = create_chat_prompt(question)\n",
    "        data.append({\"input\": input_prompt, \"ideal\": key})\n",
    "\n",
    "# Convert to a Pandas DataFrame\n",
    "df = pd.DataFrame(data)\n",
    "\n",
    "# Save to a JSON file\n",
    "json_output_path = os.path.join(registry_path, \"data\", eval_key, \"samples.jsonl\")\n",
    "df.to_json(json_output_path, orient=\"records\", lines=True)\n",
    "\n",
    "# Display the DataFrame\n",
    "display(df.head())"
   ]
  },
  {
   "cell_type": "markdown",
   "metadata": {},
   "source": [
    "## Create the eval `.yaml` in local eval registry"
   ]
  },
  {
   "cell_type": "code",
   "execution_count": 123,
   "metadata": {},
   "outputs": [],
   "source": [
    "samples_path = os.path.join(registry_path, \"data\", eval_key, \"samples.jsonl\")\n",
    "\n",
    "eval_yaml = f\"\"\"\n",
    "{eval_key}:\n",
    "  id: {eval_key}.test.v0\n",
    "  metrics: [accuracy]\n",
    "\n",
    "{eval_key}.test.v0:\n",
    "  class: evals.elsuite.basic.match:Match\n",
    "  args:\n",
    "    samples_jsonl: {samples_path}\n",
    "\"\"\".strip()\n",
    "\n",
    "with open(os.path.join(registry_path, \"evals\", f\"{eval_key}.yaml\"), \"w\") as f:\n",
    "    f.write(eval_yaml)"
   ]
  },
  {
   "cell_type": "markdown",
   "metadata": {},
   "source": [
    "## Run eval\n",
    "\n",
    "Using oaieval CLI tool from OpenAI"
   ]
  },
  {
   "cell_type": "code",
   "execution_count": 124,
   "metadata": {},
   "outputs": [],
   "source": [
    "def run_evaluation(model, eval_key, filename_timestamp, registry_path):\n",
    "    results_file_name = f\"{eval_key}-{model}-{filename_timestamp}.jsonl\"\n",
    "\n",
    "    # Get the absolute path to the registry\n",
    "    abs_registry_path = os.path.abspath(registry_path)\n",
    "\n",
    "    # Create the results directory\n",
    "    results_dir = os.path.join(os.getcwd(), \".results\")\n",
    "    os.makedirs(results_dir, exist_ok=True)\n",
    "    abs_record_path = os.path.join(results_dir, results_file_name)\n",
    "\n",
    "    # Check if the file exists\n",
    "    file_path = Path(abs_record_path)\n",
    "    if file_path.is_file():\n",
    "        print(f\"The file {results_file_name} already exists.\")\n",
    "        return\n",
    "\n",
    "    # Uncomment args as needed\n",
    "    extra_args = [\n",
    "        # \"--debug\",\n",
    "        # \"--dry-run\",\n",
    "        # \"--max_samples 5\",\n",
    "        f\"--registry_path {abs_registry_path}\",\n",
    "        f\"--record_path {abs_record_path}\"\n",
    "    ]\n",
    "\n",
    "    # Run the eval with paths passed in\n",
    "    get_ipython().system(f\"oaieval {model} {eval_key} {' '.join(extra_args)}\")\n"
   ]
  },
  {
   "cell_type": "code",
   "execution_count": 125,
   "metadata": {},
   "outputs": [],
   "source": [
    "# Make changes in this cell and re-run it. Then re-run the next cell to store a new eval in the `.results` directory.\n",
    "\n",
    "# Compare different models\n",
    "model = \"gpt-3.5-turbo\"\n",
    "# model = \"gpt-4\"\n",
    "\n",
    "filename_timestamp = datetime.datetime.now().strftime('%Y-%m-%d_%H-%M-%S')"
   ]
  },
  {
   "cell_type": "code",
   "execution_count": 126,
   "metadata": {},
   "outputs": [
    {
     "name": "stdout",
     "output_type": "stream",
     "text": [
      "[2023-08-22 11:06:10,191] [registry.py:249] Loading registry from /Users/briansigafoos/Development/briansigafoos/report-picker-gpt/evals/venv/lib/python3.11/site-packages/evals/registry/evals\n",
      "[2023-08-22 11:06:10,245] [registry.py:249] Loading registry from /Users/briansigafoos/.evals/evals\n",
      "[2023-08-22 11:06:10,245] [registry.py:249] Loading registry from /Users/briansigafoos/Development/briansigafoos/report-picker-gpt/evals/.local_registry/evals\n",
      "[2023-08-22 11:06:10,246] [oaieval.py:110] \u001b[1;35mRun started: 230822150610OOQLVIOR\u001b[0m\n",
      "[2023-08-22 11:06:10,246] [data.py:75] Fetching /Users/briansigafoos/Development/briansigafoos/report-picker-gpt/evals/.local_registry/data/report_picker/samples.jsonl\n",
      "[2023-08-22 11:06:10,250] [eval.py:34] Evaluating 60 samples\n",
      "[2023-08-22 11:06:10,257] [eval.py:153] Running in threaded mode with 10 threads!\n",
      "100%|███████████████████████████████████████████| 60/60 [00:01<00:00, 32.08it/s]\n",
      "[2023-08-22 11:06:12,130] [record.py:320] Final report: {'accuracy': 0.7166666666666667}. Logged to /Users/briansigafoos/Development/briansigafoos/report-picker-gpt/evals/.results/report_picker-gpt-3.5-turbo-2023-08-22_11-06-09.jsonl\n",
      "[2023-08-22 11:06:12,130] [oaieval.py:147] Final report:\n",
      "[2023-08-22 11:06:12,130] [oaieval.py:149] accuracy: 0.7166666666666667\n",
      "[2023-08-22 11:06:12,136] [record.py:309] Logged 120 rows of events to /Users/briansigafoos/Development/briansigafoos/report-picker-gpt/evals/.results/report_picker-gpt-3.5-turbo-2023-08-22_11-06-09.jsonl: insert_time=5.115ms\n"
     ]
    }
   ],
   "source": [
    "# Re-running just this cell without re-running the previous cell should be a no-op\n",
    "run_evaluation(model, eval_key, filename_timestamp, registry_path)"
   ]
  },
  {
   "cell_type": "markdown",
   "metadata": {},
   "source": [
    "## View results and mistakes"
   ]
  },
  {
   "cell_type": "code",
   "execution_count": 127,
   "metadata": {},
   "outputs": [
    {
     "data": {
      "text/plain": [
       "<Axes: title={'center': 'Correctness of generated answers'}, xlabel='Correct', ylabel='Count'>"
      ]
     },
     "execution_count": 127,
     "metadata": {},
     "output_type": "execute_result"
    },
    {
     "data": {
      "image/png": "[encoded data removed]",
      "text/plain": [
       "<Figure size 640x480 with 1 Axes>"
      ]
     },
     "metadata": {},
     "output_type": "display_data"
    }
   ],
   "source": [
    "# Load the results into a DataFrame\n",
    "with open(abs_record_path, \"r\") as f:\n",
    "    df = pd.read_json(f, lines=True)\n",
    "\n",
    "matches_df = df[events_df.type == \"match\"].reset_index(drop=True)\n",
    "matches_df = df.join(pd.json_normalize(matches_df.data))\n",
    "matches_df.correct.value_counts().plot.bar(title=\"Correctness of generated answers\", xlabel=\"Correct\", ylabel=\"Count\")"
   ]
  },
  {
   "cell_type": "code",
   "execution_count": 129,
   "metadata": {},
   "outputs": [
    {
     "name": "stdout",
     "output_type": "stream",
     "text": [
      "                                                                                                                      question        expected           actual\n",
      "3                                           What were the activity logs for discounts and comps/voids during a specific event?     ActivityLog               NA\n",
      "7                                                        How were the cash drawers managed during the year-end clearance sale?     CashDrawers               NA\n",
      "11   How can I track sensitive actions taken by the team, like processed refunds and changes to inventory, for the past month?     ActivityLog     Activity Log\n",
      "15                                     How can I track everything related to Square gift card activity for the holiday season?       GiftCards       Gift Cards\n",
      "27                                                         How many voided items were there during the last special promotion?           Voids               NA\n",
      "35                                                How can I view a detailed report of all transactions during the summer sale?    Transactions        ItemSales\n",
      "39                               How much did I give in discounts during the summer sale, and what were the most popular ones?       Discounts   Key: Discounts\n",
      "41                                                  What's the relationship between wages and sales during the holiday season?    LaborVsSales  Labor vs. Sales\n",
      "45                                                                        Show me a summary of all disputes for the past year?        Disputes               NA\n",
      "51                                                Show me a summary of gift card activities for a specific event or promotion?       GiftCards               NA\n",
      "53                                                       Show me a list of the top modifiers used during the Christmas season?   ModifierSales               NA\n",
      "55                                                What was the total amount of tips and taxes collected from January to March?    SalesSummary               NA\n",
      "81                                                Show me an analysis of the trend of labor costs vs. sales on a weekly basis?    LaborVsSales  Labor vs. Sales\n",
      "89                                                 Show me a detailed breakdown of payment methods for the Black Friday sales?  PaymentMethods               NA\n",
      "97                                                   How were the different tax rates used during the year-end clearance sale?           Taxes               NA\n",
      "105               How much revenue did I collect through credit cards, and what were the associated fees for the last quarter?    SalesSummary   PaymentMethods\n",
      "113                                                   What were the details of disputes during a particular sale or promotion?        Disputes               NA\n"
     ]
    }
   ],
   "source": [
    "# Customize Pandas display options\n",
    "pd.set_option('display.max_columns', None)\n",
    "pd.set_option('display.max_colwidth', 200)\n",
    "pd.set_option('display.width', 1000)\n",
    "\n",
    "# Function to check if correct is False\n",
    "def is_incorrect(row):\n",
    "    return isinstance(row, dict) and row.get('correct') == False\n",
    "\n",
    "# Filter incorrect matches and create a copy\n",
    "mistakes_df = df[df['data'].apply(is_incorrect)].copy()\n",
    "\n",
    "# Function to find the question for a specific sample_id\n",
    "def find_user_question(sample_id):\n",
    "    row = df[df['sample_id'] == sample_id].iloc[0]\n",
    "    user_content = next((item['content'] for item in row['data']['prompt'] if item['role'] == 'user'), None)\n",
    "    return user_content\n",
    "\n",
    "# Apply the function to the mistakes DataFrame to find the question\n",
    "mistakes_df['question'] = mistakes_df['sample_id'].apply(find_user_question)\n",
    "\n",
    "# Extract expected and actual values\n",
    "mistakes_df['expected'] = mistakes_df['data'].apply(lambda x: x['expected'])\n",
    "mistakes_df['actual'] = mistakes_df['data'].apply(lambda x: x['sampled'])\n",
    "\n",
    "# Display the expected, sampled columns along with user content\n",
    "result_df = mistakes_df[['question', 'expected', 'actual']]\n",
    "print(result_df)"
   ]
  }
 ],
 "metadata": {
  "kernelspec": {
   "display_name": "venv",
   "language": "python",
   "name": "python3"
  },
  "language_info": {
   "codemirror_mode": {
    "name": "ipython",
    "version": 3
   },
   "file_extension": ".py",
   "mimetype": "text/x-python",
   "name": "python",
   "nbconvert_exporter": "python",
   "pygments_lexer": "ipython3",
   "version": "3.11.4"
  },
  "orig_nbformat": 4
 },
 "nbformat": 4,
 "nbformat_minor": 2
}
