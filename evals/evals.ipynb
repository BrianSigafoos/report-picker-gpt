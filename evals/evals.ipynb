{
 "cells": [
  {
   "cell_type": "markdown",
   "metadata": {},
   "source": [
    "# Building a Report Picker eval\n",
    "\n",
    "Based on the [examples in openai/evals](https://github.com/openai/evals/tree/26a5191230e91953f4f2fdd74a82051fda2aba23/examples)"
   ]
  },
  {
   "cell_type": "code",
   "execution_count": 1,
   "metadata": {},
   "outputs": [],
   "source": [
    "%load_ext autoreload\n",
    "%autoreload 2\n",
    "\n",
    "import os\n",
    "import requests\n",
    "import pandas as pd"
   ]
  },
  {
   "cell_type": "code",
   "execution_count": 13,
   "metadata": {},
   "outputs": [
    {
     "data": {
      "text/plain": [
       "'\\nYou\\'re an expert at finding the best report(s) to answer a user\\'s question about their business. If the question isn\\'t answerable by these reports, return \"NA\" as the \"error\".\\n\\nToday\\'s date: 2023-08-21\\n\\nAvailable reports: \\n[{\\'key\\': \\'SalesSummary\\', \\'description\\': \\'Sales Summary: A general overview of sales from a given time period. The report includes itemization metrics like gross sales, refunds, net sales, discounts, tips, and taxes. It also includes payment metrics like total collected (revenue by tender type) and fees.\\', \\'filters\\': [\\'startDate\\', \\'endDate\\']}, {\\'key\\': \\'SalesTrends\\', \\'description\\': \\'Sales Trends: Compares your daily, weekly, and yearly gross sales.\\', \\'filters\\': [\\'startDate\\', \\'endDate\\']}, {\\'key\\': \\'PaymentMethods\\', \\'description\\': \\'Payment Methods: A summary of the total collected and any associated fees from credit, debit and gift cards, and any other tender types. The reports include payments broken down by debit vs credit, as well as by card brand - American Express, Visa, Mastercard, etc. with corresponding fees. Adjust filters to change the data displayed in the breakdown.\\', \\'filters\\': [\\'startDate\\', \\'endDate\\', \\'paymentMethod\\']}, {\\'key\\': \\'ItemSales\\', \\'description\\': \\'Item Sales: Shows details for all items sold including gross sales, net sales, SKUs, discounts, and total sold. Use advanced reporting options to display item sales by device, employee, or payment method. Note: Click an item in your report to see an item dropdown - specific sales info on that item and all its variations.\\', \\'filters\\': [\\'item\\', \\'startDate\\', \\'endDate\\', \\'location\\', \\'device\\', \\'employee\\', \\'paymentMethod\\']}, {\\'key\\': \\'CategorySale\\', \\'description\\': \\'Category Sale: An overview of top grossing categories and the number of items sold within each category.\\', \\'filters\\': [\\'startDate\\', \\'endDate\\', \\'category\\']}, {\\'key\\': \\'TeamMemberSales\\', \\'description\\': \\'Team Member Sales: Show sales per employee, tips, average sale size and revenue per labor hour.\\', \\'filters\\': [\\'startDate\\', \\'endDate\\', \\'location\\']}, {\\'key\\': \\'LaborVsSales\\', \\'description\\': \\'Labor vs. Sales: Track wages and see how your labor cost compares to sales.\\', \\'filters\\': [\\'startDate\\', \\'endDate\\']}, {\\'key\\': \\'Discounts\\', \\'description\\': \\'Discounts: A list of the top used discounts and total discount amounts collected.\\', \\'filters\\': [\\'startDate\\', \\'endDate\\', \\'amount\\']}, {\\'key\\': \\'ModifierSales\\', \\'description\\': \\'Modifier Sales: A list of the top used modifiers in a given time period.\\', \\'filters\\': [\\'startDate\\', \\'endDate\\']}, {\\'key\\': \\'Comps\\', \\'description\\': \\'Comps: A list of transactions with comped items.\\', \\'filters\\': [\\'startDate\\', \\'endDate\\']}, {\\'key\\': \\'Voids\\', \\'description\\': \\'Voids: A list of transactions with voided items.\\', \\'filters\\': [\\'startDate\\', \\'endDate\\']}, {\\'key\\': \\'Taxes\\', \\'description\\': \\'Taxes: An overview of how your tax rates are being used in a given time period, including taxable and non-taxable sales.\\', \\'filters\\': [\\'startDate\\', \\'endDate\\']}, {\\'key\\': \\'TransactionStatus\\', \\'description\\': \\'Transaction Status: A list of any unprocessed transactions like declined cards, canceled payments, and other uncompleted transactions.\\', \\'filters\\': [\\'startDate\\', \\'endDate\\']}, {\\'key\\': \\'GiftCards\\', \\'description\\': \\'Gift Cards: Tracks everything related to your Square gift card activity.\\', \\'filters\\': [\\'startDate\\', \\'endDate\\']}, {\\'key\\': \\'Transactions\\', \\'description\\': \\'Transactions: A list of individual transactions and transaction details from a given time period.\\', \\'filters\\': [\\'startDate\\', \\'endDate\\']}, {\\'key\\': \\'Balance\\', \\'description\\': \\'Balance: A list of individual transfers and the payments included in each transfer, along with your entire transfer history. \\', \\'filters\\': [\\'startDate\\', \\'endDate\\']}, {\\'key\\': \\'Disputes\\', \\'description\\': \\'Disputes: View, manage, and get updates on any disputes you may receive.\\', \\'filters\\': [\\'startDate\\', \\'endDate\\']}, {\\'key\\': \\'CashDrawers\\', \\'description\\': \\'Cash Drawers: Tracks individual cash drawer sessions and your full cash drawer history.\\', \\'filters\\': [\\'startDate\\', \\'endDate\\']}, {\\'key\\': \\'ActivityLog\\', \\'description\\': \\'Activity Log: Tracks sensitive actions taken by your team, such as processed refunds, updates to item inventory, changes to tip settings, comps/voids, and discounts.\\', \\'filters\\': [\\'startDate\\', \\'endDate\\']}]\\n'"
      ]
     },
     "execution_count": 13,
     "metadata": {},
     "output_type": "execute_result"
    }
   ],
   "source": [
    "# Construct the system prompt, similar to ../lib/openai.ts `createSystemPrompt`\n",
    "import json\n",
    "\n",
    "# Read the prompt_template as a scalar value\n",
    "with open(\"../lib/prompt_template.json\") as f:\n",
    "    prompt_template_data = json.load(f)\n",
    "    prompt_template_prompt = prompt_template_data['prompt'] # Adjust this based on the actual structure\n",
    "\n",
    "# Read the available_reports as a DataFrame\n",
    "with open(\"../lib/available_reports/square.json\") as f:\n",
    "    available_reports = json.load(f)\n",
    "\n",
    "sample_date = \"2023-08-21\"\n",
    "\n",
    "system_prompt = f\"\"\"\n",
    "{prompt_template_prompt}\n",
    "\n",
    "Today's date: {sample_date}\n",
    "\n",
    "Available reports: \n",
    "{available_reports}\n",
    "\"\"\"\n",
    "\n",
    "system_prompt"
   ]
  },
  {
   "cell_type": "code",
   "execution_count": 11,
   "metadata": {},
   "outputs": [],
   "source": [
    "def create_chat_prompt(text):\n",
    "    return [\n",
    "        {\"role\": \"system\", \"content\": system_prompt}, \n",
    "        {\"role\": \"user\", \"content\": text}\n",
    "    ]"
   ]
  },
  {
   "cell_type": "code",
   "execution_count": null,
   "metadata": {},
   "outputs": [],
   "source": []
  }
 ],
 "metadata": {
  "kernelspec": {
   "display_name": "venv",
   "language": "python",
   "name": "python3"
  },
  "language_info": {
   "codemirror_mode": {
    "name": "ipython",
    "version": 3
   },
   "file_extension": ".py",
   "mimetype": "text/x-python",
   "name": "python",
   "nbconvert_exporter": "python",
   "pygments_lexer": "ipython3",
   "version": "3.11.4"
  },
  "orig_nbformat": 4
 },
 "nbformat": 4,
 "nbformat_minor": 2
}
