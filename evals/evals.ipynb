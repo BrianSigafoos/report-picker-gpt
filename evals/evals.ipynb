{
 "cells": [
  {
   "cell_type": "markdown",
   "metadata": {},
   "source": [
    "# Building a Report Picker eval\n",
    "\n",
    "Based on the [examples in openai/evals](https://github.com/openai/evals/tree/26a5191230e91953f4f2fdd74a82051fda2aba23/examples)"
   ]
  },
  {
   "cell_type": "code",
   "execution_count": 60,
   "metadata": {},
   "outputs": [
    {
     "name": "stdout",
     "output_type": "stream",
     "text": [
      "The autoreload extension is already loaded. To reload it, use:\n",
      "  %reload_ext autoreload\n"
     ]
    }
   ],
   "source": [
    "%load_ext autoreload\n",
    "%autoreload 2\n",
    "\n",
    "import datetime\n",
    "import os\n",
    "import requests\n",
    "import pandas as pd\n",
    "import yaml\n",
    "import json"
   ]
  },
  {
   "cell_type": "code",
   "execution_count": 61,
   "metadata": {},
   "outputs": [
    {
     "data": {
      "text/plain": [
       "'\\nYou\\'re an expert at finding the best report(s) to answer a user\\'s question about their business. If the question isn\\'t answerable by these reports, return \"NA\" as the \"error\".\\n\\nToday\\'s date: 2023-08-21\\n\\nAvailable reports: \\n[{\\'key\\': \\'SalesSummary\\', \\'description\\': \\'Sales Summary: A general overview of sales from a given time period. The report includes itemization metrics like gross sales, refunds, net sales, discounts, tips, and taxes. It also includes payment metrics like total collected (revenue by tender type) and fees.\\', \\'filters\\': [\\'startDate\\', \\'endDate\\']}, {\\'key\\': \\'SalesTrends\\', \\'description\\': \\'Sales Trends: Compares your daily, weekly, and yearly gross sales.\\', \\'filters\\': [\\'startDate\\', \\'endDate\\']}, {\\'key\\': \\'PaymentMethods\\', \\'description\\': \\'Payment Methods: A summary of the total collected and any associated fees from credit, debit and gift cards, and any other tender types. The reports include payments broken down by debit vs credit, as well as by card brand - American Express, Visa, Mastercard, etc. with corresponding fees. Adjust filters to change the data displayed in the breakdown.\\', \\'filters\\': [\\'startDate\\', \\'endDate\\', \\'paymentMethod\\']}, {\\'key\\': \\'ItemSales\\', \\'description\\': \\'Item Sales: Shows details for all items sold including gross sales, net sales, SKUs, discounts, and total sold. Use advanced reporting options to display item sales by device, employee, or payment method. Note: Click an item in your report to see an item dropdown - specific sales info on that item and all its variations.\\', \\'filters\\': [\\'item\\', \\'startDate\\', \\'endDate\\', \\'location\\', \\'device\\', \\'employee\\', \\'paymentMethod\\']}, {\\'key\\': \\'CategorySale\\', \\'description\\': \\'Category Sale: An overview of top grossing categories and the number of items sold within each category.\\', \\'filters\\': [\\'startDate\\', \\'endDate\\', \\'category\\']}, {\\'key\\': \\'TeamMemberSales\\', \\'description\\': \\'Team Member Sales: Show sales per employee, tips, average sale size and revenue per labor hour.\\', \\'filters\\': [\\'startDate\\', \\'endDate\\', \\'location\\']}, {\\'key\\': \\'LaborVsSales\\', \\'description\\': \\'Labor vs. Sales: Track wages and see how your labor cost compares to sales.\\', \\'filters\\': [\\'startDate\\', \\'endDate\\']}, {\\'key\\': \\'Discounts\\', \\'description\\': \\'Discounts: A list of the top used discounts and total discount amounts collected.\\', \\'filters\\': [\\'startDate\\', \\'endDate\\', \\'amount\\']}, {\\'key\\': \\'ModifierSales\\', \\'description\\': \\'Modifier Sales: A list of the top used modifiers in a given time period.\\', \\'filters\\': [\\'startDate\\', \\'endDate\\']}, {\\'key\\': \\'Comps\\', \\'description\\': \\'Comps: A list of transactions with comped items.\\', \\'filters\\': [\\'startDate\\', \\'endDate\\']}, {\\'key\\': \\'Voids\\', \\'description\\': \\'Voids: A list of transactions with voided items.\\', \\'filters\\': [\\'startDate\\', \\'endDate\\']}, {\\'key\\': \\'Taxes\\', \\'description\\': \\'Taxes: An overview of how your tax rates are being used in a given time period, including taxable and non-taxable sales.\\', \\'filters\\': [\\'startDate\\', \\'endDate\\']}, {\\'key\\': \\'TransactionStatus\\', \\'description\\': \\'Transaction Status: A list of any unprocessed transactions like declined cards, canceled payments, and other uncompleted transactions.\\', \\'filters\\': [\\'startDate\\', \\'endDate\\']}, {\\'key\\': \\'GiftCards\\', \\'description\\': \\'Gift Cards: Tracks everything related to your Square gift card activity.\\', \\'filters\\': [\\'startDate\\', \\'endDate\\']}, {\\'key\\': \\'Transactions\\', \\'description\\': \\'Transactions: A list of individual transactions and transaction details from a given time period.\\', \\'filters\\': [\\'startDate\\', \\'endDate\\']}, {\\'key\\': \\'Balance\\', \\'description\\': \\'Balance: A list of individual transfers and the payments included in each transfer, along with your entire transfer history. \\', \\'filters\\': [\\'startDate\\', \\'endDate\\']}, {\\'key\\': \\'Disputes\\', \\'description\\': \\'Disputes: View, manage, and get updates on any disputes you may receive.\\', \\'filters\\': [\\'startDate\\', \\'endDate\\']}, {\\'key\\': \\'CashDrawers\\', \\'description\\': \\'Cash Drawers: Tracks individual cash drawer sessions and your full cash drawer history.\\', \\'filters\\': [\\'startDate\\', \\'endDate\\']}, {\\'key\\': \\'ActivityLog\\', \\'description\\': \\'Activity Log: Tracks sensitive actions taken by your team, such as processed refunds, updates to item inventory, changes to tip settings, comps/voids, and discounts.\\', \\'filters\\': [\\'startDate\\', \\'endDate\\']}]\\n'"
      ]
     },
     "execution_count": 61,
     "metadata": {},
     "output_type": "execute_result"
    }
   ],
   "source": [
    "# Construct the system prompt, similar to ../lib/openai.ts `createSystemPrompt`\n",
    "\n",
    "# Read the prompt_template as a scalar value\n",
    "with open(\"../lib/prompt_template.json\") as f:\n",
    "    prompt_template_data = json.load(f)\n",
    "    prompt_template_prompt = prompt_template_data['prompt'] # Adjust this based on the actual structure\n",
    "\n",
    "# Read the available_reports as a DataFrame\n",
    "with open(\"../lib/available_reports/square.json\") as f:\n",
    "    available_reports = json.load(f)\n",
    "\n",
    "sample_date = \"2023-08-21\"\n",
    "\n",
    "system_prompt = f\"\"\"\n",
    "{prompt_template_prompt}\n",
    "\n",
    "Today's date: {sample_date}\n",
    "\n",
    "Available reports: \n",
    "{available_reports}\n",
    "\"\"\"\n",
    "\n",
    "system_prompt"
   ]
  },
  {
   "cell_type": "code",
   "execution_count": 62,
   "metadata": {},
   "outputs": [
    {
     "data": {
      "text/html": [
       "<div>\n",
       "<style scoped>\n",
       "    .dataframe tbody tr th:only-of-type {\n",
       "        vertical-align: middle;\n",
       "    }\n",
       "\n",
       "    .dataframe tbody tr th {\n",
       "        vertical-align: top;\n",
       "    }\n",
       "\n",
       "    .dataframe thead th {\n",
       "        text-align: right;\n",
       "    }\n",
       "</style>\n",
       "<table border=\"1\" class=\"dataframe\">\n",
       "  <thead>\n",
       "    <tr style=\"text-align: right;\">\n",
       "      <th></th>\n",
       "      <th>input</th>\n",
       "      <th>ideal</th>\n",
       "    </tr>\n",
       "  </thead>\n",
       "  <tbody>\n",
       "    <tr>\n",
       "      <th>0</th>\n",
       "      <td>[{'role': 'system', 'content': '\n",
       "You're an exp...</td>\n",
       "      <td>SalesSummary</td>\n",
       "    </tr>\n",
       "    <tr>\n",
       "      <th>1</th>\n",
       "      <td>[{'role': 'system', 'content': '\n",
       "You're an exp...</td>\n",
       "      <td>SalesSummary</td>\n",
       "    </tr>\n",
       "    <tr>\n",
       "      <th>2</th>\n",
       "      <td>[{'role': 'system', 'content': '\n",
       "You're an exp...</td>\n",
       "      <td>SalesSummary</td>\n",
       "    </tr>\n",
       "    <tr>\n",
       "      <th>3</th>\n",
       "      <td>[{'role': 'system', 'content': '\n",
       "You're an exp...</td>\n",
       "      <td>SalesTrends</td>\n",
       "    </tr>\n",
       "    <tr>\n",
       "      <th>4</th>\n",
       "      <td>[{'role': 'system', 'content': '\n",
       "You're an exp...</td>\n",
       "      <td>SalesTrends</td>\n",
       "    </tr>\n",
       "  </tbody>\n",
       "</table>\n",
       "</div>"
      ],
      "text/plain": [
       "                                               input         ideal\n",
       "0  [{'role': 'system', 'content': '\n",
       "You're an exp...  SalesSummary\n",
       "1  [{'role': 'system', 'content': '\n",
       "You're an exp...  SalesSummary\n",
       "2  [{'role': 'system', 'content': '\n",
       "You're an exp...  SalesSummary\n",
       "3  [{'role': 'system', 'content': '\n",
       "You're an exp...   SalesTrends\n",
       "4  [{'role': 'system', 'content': '\n",
       "You're an exp...   SalesTrends"
      ]
     },
     "metadata": {},
     "output_type": "display_data"
    }
   ],
   "source": [
    "eval_key = \"report_picker\"\n",
    "registry_path = os.path.join(os.getcwd(), \".local_registry\")\n",
    "os.makedirs(os.path.join(registry_path, \"evals\"), exist_ok=True)\n",
    "os.makedirs(os.path.join(registry_path, \"data\", eval_key), exist_ok=True)\n",
    "\n",
    "# display(registry_path)\n",
    "\n",
    "def create_chat_prompt(user_question):\n",
    "    return [\n",
    "        {\"role\": \"system\", \"content\": system_prompt}, \n",
    "        {\"role\": \"user\", \"content\": user_question}\n",
    "    ]\n",
    "\n",
    "# Read the YAML file\n",
    "yaml_file_path = os.path.join(\"report_questions.yaml\")\n",
    "with open(yaml_file_path, 'r') as f:\n",
    "    yaml_data = yaml.load(f, Loader=yaml.FullLoader)\n",
    "\n",
    "# Transform the dictionary\n",
    "data = []\n",
    "for key, questions in yaml_data.items():\n",
    "    for question in questions:\n",
    "        input_prompt = create_chat_prompt(question)\n",
    "        data.append({\"input\": input_prompt, \"ideal\": key})\n",
    "\n",
    "# Convert to a Pandas DataFrame\n",
    "df = pd.DataFrame(data)\n",
    "\n",
    "# Save to a JSON file\n",
    "json_output_path = os.path.join(registry_path, \"data\", eval_key, \"samples.jsonl\")\n",
    "df.to_json(json_output_path, orient=\"records\", lines=True)\n",
    "\n",
    "# Display the DataFrame\n",
    "display(df.head())"
   ]
  },
  {
   "cell_type": "code",
   "execution_count": 63,
   "metadata": {},
   "outputs": [],
   "source": [
    "samples_path = os.path.join(registry_path, \"data\", eval_key, \"samples.jsonl\")\n",
    "\n",
    "eval_yaml = f\"\"\"\n",
    "{eval_key}:\n",
    "  id: {eval_key}.test.v1\n",
    "  metrics: [accuracy]\n",
    "\n",
    "{eval_key}.test.v1:\n",
    "  class: evals.elsuite.basic.match:Match\n",
    "  args:\n",
    "    samples_jsonl: {samples_path}\n",
    "\"\"\".strip()\n",
    "\n",
    "with open(os.path.join(registry_path, \"evals\", f\"{eval_key}.yaml\"), \"w\") as f:\n",
    "    f.write(eval_yaml)"
   ]
  },
  {
   "cell_type": "markdown",
   "metadata": {},
   "source": [
    "## Run the `oaieval` CLI tool"
   ]
  },
  {
   "cell_type": "code",
   "execution_count": 65,
   "metadata": {},
   "outputs": [
    {
     "name": "stdout",
     "output_type": "stream",
     "text": [
      "[2023-08-21 16:42:44,617] [registry.py:249] Loading registry from /Users/briansigafoos/Development/briansigafoos/report-picker-gpt/evals/venv/lib/python3.11/site-packages/evals/registry/evals\n",
      "[2023-08-21 16:42:44,658] [registry.py:249] Loading registry from /Users/briansigafoos/.evals/evals\n",
      "[2023-08-21 16:42:44,658] [registry.py:249] Loading registry from /Users/briansigafoos/Development/briansigafoos/report-picker-gpt/evals/.local_registry/evals\n",
      "[2023-08-21 16:42:44,659] [registry.py:135] Looking for report_picker\n",
      "[2023-08-21 16:42:44,659] [oaieval.py:110] \u001b[1;35mRun started: 230821204244MA36LDYO\u001b[0m\n",
      "[2023-08-21 16:42:44,660] [data.py:75] Fetching /Users/briansigafoos/Development/briansigafoos/report-picker-gpt/evals/.local_registry/data/report_picker/samples.jsonl\n",
      "[2023-08-21 16:42:44,660] [eval.py:34] Evaluating 5 samples\n",
      "[2023-08-21 16:42:44,666] [eval.py:153] Running in threaded mode with 10 threads!\n",
      "  0%|                                                     | 0/5 [00:00<?, ?it/s][2023-08-21 16:42:44,689] [retry.py:351] Converted retries value: 2 -> Retry(total=2, connect=None, read=None, redirect=None, status=None)\n",
      "[2023-08-21 16:42:44,691] [retry.py:351] Converted retries value: 2 -> Retry(total=2, connect=None, read=None, redirect=None, status=None)\n",
      "[2023-08-21 16:42:44,694] [retry.py:351] Converted retries value: 2 -> Retry(total=2, connect=None, read=None, redirect=None, status=None)\n",
      "[2023-08-21 16:42:44,695] [retry.py:351] Converted retries value: 2 -> Retry(total=2, connect=None, read=None, redirect=None, status=None)\n",
      "[2023-08-21 16:42:44,696] [connectionpool.py:1014] Starting new HTTPS connection (1): api.openai.com:443\n",
      "[2023-08-21 16:42:44,697] [retry.py:351] Converted retries value: 2 -> Retry(total=2, connect=None, read=None, redirect=None, status=None)\n",
      "[2023-08-21 16:42:44,697] [connectionpool.py:1014] Starting new HTTPS connection (1): api.openai.com:443\n",
      "[2023-08-21 16:42:44,697] [connectionpool.py:1014] Starting new HTTPS connection (1): api.openai.com:443\n",
      "[2023-08-21 16:42:44,698] [connectionpool.py:1014] Starting new HTTPS connection (1): api.openai.com:443\n",
      "[2023-08-21 16:42:44,698] [connectionpool.py:1014] Starting new HTTPS connection (1): api.openai.com:443\n",
      "[2023-08-21 16:42:45,431] [connectionpool.py:473] https://api.openai.com:443 \"POST /v1/chat/completions HTTP/1.1\" 200 None\n",
      " 20%|█████████                                    | 1/5 [00:00<00:03,  1.31it/s][2023-08-21 16:42:45,885] [connectionpool.py:473] https://api.openai.com:443 \"POST /v1/chat/completions HTTP/1.1\" 200 None\n",
      " 40%|██████████████████                           | 2/5 [00:01<00:01,  1.72it/s][2023-08-21 16:42:46,541] [connectionpool.py:473] https://api.openai.com:443 \"POST /v1/chat/completions HTTP/1.1\" 200 None\n",
      " 60%|███████████████████████████                  | 3/5 [00:01<00:01,  1.63it/s][2023-08-21 16:42:47,270] [connectionpool.py:473] https://api.openai.com:443 \"POST /v1/chat/completions HTTP/1.1\" 200 None\n",
      " 80%|████████████████████████████████████         | 4/5 [00:02<00:00,  1.51it/s][2023-08-21 16:42:50,104] [connectionpool.py:473] https://api.openai.com:443 \"POST /v1/chat/completions HTTP/1.1\" 200 None\n",
      "100%|█████████████████████████████████████████████| 5/5 [00:05<00:00,  1.09s/it]\n",
      "[2023-08-21 16:42:50,114] [record.py:320] Final report: {'accuracy': 0.0}. Logged to /Users/briansigafoos/Development/briansigafoos/report-picker-gpt/evals/.results/report_picker-2023-08-21_16-42-44.jsonl\n",
      "[2023-08-21 16:42:50,114] [oaieval.py:147] Final report:\n",
      "[2023-08-21 16:42:50,114] [oaieval.py:149] accuracy: 0.0\n",
      "[2023-08-21 16:42:50,116] [record.py:309] Logged 10 rows of events to /Users/briansigafoos/Development/briansigafoos/report-picker-gpt/evals/.results/report_picker-2023-08-21_16-42-44.jsonl: insert_time=1.359ms\n"
     ]
    }
   ],
   "source": [
    "# !oaieval gpt-3.5-turbo report_picker --max_samples 5 --debug\n",
    "\n",
    "# Get the absolute path to the registry\n",
    "abs_registry_path = os.path.abspath(registry_path)\n",
    "\n",
    "# Create the results directory\n",
    "results_dir = os.path.join(os.getcwd(), \".results\")\n",
    "os.makedirs(results_dir, exist_ok=True)\n",
    "ts = datetime.datetime.now().strftime('%Y-%m-%d_%H-%M-%S')\n",
    "results_file_name = f\"{eval_key}-{ts}.jsonl\"\n",
    "abs_record_path = os.path.join(results_dir, results_file_name)\n",
    "\n",
    "# Run the eval with paths passed in\n",
    "# other flags to use: --debug, --dry-run, --max_samples 5, --registry_path, --record_path\n",
    "get_ipython().system(f\"oaieval gpt-3.5-turbo report_picker --max_samples 5 --registry_path {abs_registry_path} --record_path {abs_record_path}\")"
   ]
  }
 ],
 "metadata": {
  "kernelspec": {
   "display_name": "venv",
   "language": "python",
   "name": "python3"
  },
  "language_info": {
   "codemirror_mode": {
    "name": "ipython",
    "version": 3
   },
   "file_extension": ".py",
   "mimetype": "text/x-python",
   "name": "python",
   "nbconvert_exporter": "python",
   "pygments_lexer": "ipython3",
   "version": "3.11.4"
  },
  "orig_nbformat": 4
 },
 "nbformat": 4,
 "nbformat_minor": 2
}
